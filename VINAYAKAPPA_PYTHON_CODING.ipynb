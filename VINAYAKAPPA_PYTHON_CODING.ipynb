{
  "nbformat": 4,
  "nbformat_minor": 0,
  "metadata": {
    "colab": {
      "name": "VINAYAKAPPA_PYTHON_CODING.ipynb",
      "provenance": [],
      "collapsed_sections": [],
      "authorship_tag": "ABX9TyMLiL9OxAxMleQKfFnWO8WQ",
      "include_colab_link": true
    },
    "kernelspec": {
      "name": "python3",
      "display_name": "Python 3"
    },
    "language_info": {
      "name": "python"
    }
  },
  "cells": [
    {
      "cell_type": "markdown",
      "metadata": {
        "id": "view-in-github",
        "colab_type": "text"
      },
      "source": [
        "<a href=\"https://colab.research.google.com/github/hariharankpz/Playground/blob/master/VINAYAKAPPA_PYTHON_CODING.ipynb\" target=\"_parent\"><img src=\"https://colab.research.google.com/assets/colab-badge.svg\" alt=\"Open In Colab\"/></a>"
      ]
    },
    {
      "cell_type": "markdown",
      "source": [
        "\n",
        "\n",
        "## Python Program to Find the Fibonacci Series without Using Recursion\n",
        "\n"
      ],
      "metadata": {
        "id": "FXgOqLAdNn2x"
      }
    },
    {
      "cell_type": "code",
      "source": [
        "# a = int(input(\"Enter first number\"))\n",
        "# b = int(input(\"Enter Second number\"))\n",
        "# n = int(input(\"Enter the number of elements\"))\n",
        "a=0\n",
        "b=1\n",
        "n=10\n",
        "print(a,b,end=\" \")\n",
        "while(n-2):#when it is n=0, loop will terminate\n",
        "  c=a+b\n",
        "  a=b\n",
        "  b=c\n",
        "  print(c,end=\" \")\n",
        "  n=n-1"
      ],
      "metadata": {
        "colab": {
          "base_uri": "https://localhost:8080/"
        },
        "id": "bk_82fzgMNJ4",
        "outputId": "3cd773ba-55a4-4b65-d840-16a86c45304a"
      },
      "execution_count": null,
      "outputs": [
        {
          "output_type": "stream",
          "name": "stdout",
          "text": [
            "0 1 1 2 3 5 8 13 21 34 "
          ]
        }
      ]
    },
    {
      "cell_type": "markdown",
      "source": [
        "## Python Program to Display Fibonacci Sequence Using Recursion"
      ],
      "metadata": {
        "id": "edU248o0OZnK"
      }
    },
    {
      "cell_type": "code",
      "source": [
        "# Python program to display the Fibonacci sequence\n",
        "\n",
        "def recur_fibo(n):\n",
        "   if n <= 1:\n",
        "       return n\n",
        "   else:\n",
        "       return(recur_fibo(n-1) + recur_fibo(n-2))\n",
        "\n",
        "nterms = 10\n",
        "\n",
        "# check if the number of terms is valid\n",
        "if nterms <= 0:\n",
        "   print(\"Plese enter a positive integer\")\n",
        "else:\n",
        "   print(\"Fibonacci sequence:\")\n",
        "   for i in range(nterms):\n",
        "       print(recur_fibo(i),end=\" \")"
      ],
      "metadata": {
        "colab": {
          "base_uri": "https://localhost:8080/"
        },
        "id": "QyVORVvBPd0U",
        "outputId": "324232e9-ef2d-467e-af98-9e2d03bd26c6"
      },
      "execution_count": null,
      "outputs": [
        {
          "output_type": "stream",
          "name": "stdout",
          "text": [
            "Fibonacci sequence:\n",
            "0 1 1 2 3 5 8 13 21 34 "
          ]
        }
      ]
    },
    {
      "cell_type": "markdown",
      "source": [
        "##Factorial using recursion"
      ],
      "metadata": {
        "id": "LmEQ-lBCVbDZ"
      }
    },
    {
      "cell_type": "code",
      "source": [
        "def factorial(n):\n",
        "    if(n <= 1):\n",
        "        return n\n",
        "    else:\n",
        "        return(n*factorial(n-1))\n",
        "n = int(input(\"Enter number:\"))\n",
        "\n",
        "print(factorial(n))\n",
        "\n",
        "#4*fact(3)\n",
        "#3*fact(2)\n",
        "#2*fact(1)"
      ],
      "metadata": {
        "colab": {
          "base_uri": "https://localhost:8080/"
        },
        "id": "wOWsUrveRJmM",
        "outputId": "b1c84525-b227-4a51-8ba1-2aa36b20756a"
      },
      "execution_count": null,
      "outputs": [
        {
          "output_type": "stream",
          "name": "stdout",
          "text": [
            "Enter number:1\n",
            "1\n"
          ]
        }
      ]
    },
    {
      "cell_type": "markdown",
      "source": [
        "##Factorial without using recursion"
      ],
      "metadata": {
        "id": "nTs7k5kDVgmP"
      }
    },
    {
      "cell_type": "code",
      "source": [
        "#https://www.youtube.com/watch?v=zg-ddPbzcKM\n",
        "factorial_num = 4\n",
        "factorial=1\n",
        "if factorial_num<0:\n",
        "  print(\"cant find factorial of -ve number\")\n",
        "elif factorial_num<2:\n",
        "  print(factorial)\n",
        "else:\n",
        "  for num in range(factorial_num,1,-1):\n",
        "    factorial = factorial*num\n",
        "\n",
        "print(f\"Factorial of \",factorial_num,\" is\",factorial)"
      ],
      "metadata": {
        "colab": {
          "base_uri": "https://localhost:8080/"
        },
        "id": "43aXwhz9SwPr",
        "outputId": "cadfff64-b964-400e-ae6f-d1b8ca8f9fa0"
      },
      "execution_count": null,
      "outputs": [
        {
          "output_type": "stream",
          "name": "stdout",
          "text": [
            "Factorial of  4  is 24\n"
          ]
        }
      ]
    },
    {
      "cell_type": "markdown",
      "source": [
        "## Check whether two strings are anagram or not without using built functions\n",
        "\n",
        "> Indented block\n",
        "\n"
      ],
      "metadata": {
        "id": "rey8bkxrZ5re"
      }
    },
    {
      "cell_type": "code",
      "source": [
        "#https://codescracker.com/python/program/python-check-anagram-string.htm\n",
        "s1 = \"listen\"\n",
        "s2 = \"silent\"\n",
        "found=0\n",
        "notFound=0\n",
        "if len(s2)!=len(s2):\n",
        "  print(\"Two numbers are not anagram\")\n",
        "else:\n",
        "  for i in range(len(s1)):\n",
        "    found=0\n",
        "    for j in range(len(s2)):\n",
        "      if s1[i]==s2[j]:\n",
        "        found=1\n",
        "        break\n",
        "    if found==0:\n",
        "      notFound=1\n",
        "      break\n",
        "  \n",
        "if notFound==1:\n",
        "  print(\"Strings are not anagram\")\n",
        "elif found==1:\n",
        "  print(\"strings are anagram\")"
      ],
      "metadata": {
        "colab": {
          "base_uri": "https://localhost:8080/"
        },
        "id": "HuRpQSVsaK72",
        "outputId": "242ababb-cdc7-4131-f277-8e6b4deae1f8"
      },
      "execution_count": null,
      "outputs": [
        {
          "output_type": "stream",
          "name": "stdout",
          "text": [
            "Strings are not anagram\n"
          ]
        }
      ]
    },
    {
      "cell_type": "markdown",
      "source": [
        "##Check whether two strings are anagram or not using built in functions"
      ],
      "metadata": {
        "id": "h9A11stJbdEC"
      }
    },
    {
      "cell_type": "code",
      "source": [
        "#Using sorted\n",
        "s1 = \"listen\"\n",
        "s2 = \"silent\"\n",
        "sorted(s1)\n",
        "print(sorted(s2),sorted(s1))\n",
        "if sorted(s2)==sorted(s1):\n",
        "  print(\"Anagram\")\n",
        "else:\n",
        "  print(\"Not anagram\")\n",
        "\n",
        "#Using Counter\n",
        "from collections import Counter\n",
        "print(Counter(s1))\n",
        "print(Counter(s2))\n",
        "\n",
        "# function to check if two strings are\n",
        "# anagram or not\n",
        "def check(s1, s2):\n",
        "    # implementing counter function\n",
        "    if(Counter(s1) == Counter(s2)):\n",
        "        print(\"The strings are anagrams.\")\n",
        "    else:\n",
        "        print(\"The strings aren't anagrams.\")\n",
        " \n",
        " \n",
        "# driver code\n",
        "s1 = \"listen\"\n",
        "s2 = \"silent\"\n",
        "check(s1, s2)\n"
      ],
      "metadata": {
        "colab": {
          "base_uri": "https://localhost:8080/"
        },
        "id": "1VJXb1iPafHa",
        "outputId": "afc4cce5-06df-429e-e49c-facd1d5372bc"
      },
      "execution_count": null,
      "outputs": [
        {
          "output_type": "stream",
          "name": "stdout",
          "text": [
            "['e', 'i', 'l', 'n', 's', 't'] ['e', 'i', 'l', 'n', 's', 't']\n",
            "Anagram\n",
            "Counter({'l': 1, 'i': 1, 's': 1, 't': 1, 'e': 1, 'n': 1})\n",
            "Counter({'s': 1, 'i': 1, 'l': 1, 'e': 1, 'n': 1, 't': 1})\n",
            "The strings are anagrams.\n"
          ]
        }
      ]
    },
    {
      "cell_type": "markdown",
      "source": [
        "##Python Program to Check if a String is a Pangram or Not"
      ],
      "metadata": {
        "id": "ks7h0Bnocusq"
      }
    },
    {
      "cell_type": "code",
      "source": [
        "def ispangram(str):\n",
        "   alphabet = \"abcdefghijklmnopqrstuvwxyz\"\n",
        "   for char in alphabet:\n",
        "      if char not in str.lower():\n",
        "         return False\n",
        "   return True\n",
        "# main\n",
        "string = 'The five boxing wizards jump quickly.'\n",
        "if(ispangram(string) == True):\n",
        "   print(\"Yes\")\n",
        "else:\n",
        "   print(\"No\")"
      ],
      "metadata": {
        "colab": {
          "base_uri": "https://localhost:8080/"
        },
        "id": "-qqQKXM8brPu",
        "outputId": "9b664782-f796-4ffd-8c39-cbc43593330f"
      },
      "execution_count": null,
      "outputs": [
        {
          "output_type": "stream",
          "name": "stdout",
          "text": [
            "Yes\n"
          ]
        }
      ]
    },
    {
      "cell_type": "markdown",
      "source": [
        "##Python Program to Check Common Letters in Two Input Strings\n"
      ],
      "metadata": {
        "id": "mf6VLe9se8Bb"
      }
    },
    {
      "cell_type": "code",
      "source": [
        "s1=\"hariharan\"\n",
        "s2=\"karthik\"\n",
        "list1=list(set(s1)&set(s2))\n",
        "print(list1)\n",
        "\n",
        "\n",
        "#present in s1 but not in s2\n",
        "a=list(set(s1)-set(s2))\n",
        "print(\"The letters are:\")\n",
        "for i in a:\n",
        "    print(i)"
      ],
      "metadata": {
        "colab": {
          "base_uri": "https://localhost:8080/"
        },
        "id": "vb2t6Rs0dO5i",
        "outputId": "4b26da2b-2fbd-4146-bd89-e05714d17799"
      },
      "execution_count": null,
      "outputs": [
        {
          "output_type": "stream",
          "name": "stdout",
          "text": [
            "['i', 'h', 'a', 'r']\n"
          ]
        }
      ]
    },
    {
      "cell_type": "markdown",
      "source": [
        "##Python Program to Check if a Substring is Present in a Given String"
      ],
      "metadata": {
        "id": "NX3osk5xsRi6"
      }
    },
    {
      "cell_type": "code",
      "source": [
        "\n",
        "string=input(\"Enter string:\")\n",
        "sub_str=input(\"Enter word:\")\n",
        "if(string.find(sub_str)==-1):\n",
        "      print(\"Substring not found in string!\")\n",
        "else:\n",
        "      print(\"Substring in string!\")"
      ],
      "metadata": {
        "id": "juPmszgSdQ_V",
        "colab": {
          "base_uri": "https://localhost:8080/"
        },
        "outputId": "828f33a3-d9bb-445b-afa1-0efb58e6b713"
      },
      "execution_count": null,
      "outputs": [
        {
          "output_type": "stream",
          "name": "stdout",
          "text": [
            "Enter string:hariharan\n",
            "Enter word:har\n",
            "Substring in string!\n"
          ]
        }
      ]
    },
    {
      "cell_type": "markdown",
      "source": [
        "## Program to check frequency of characters present in string"
      ],
      "metadata": {
        "id": "Kg-FoqVrsWyM"
      }
    },
    {
      "cell_type": "code",
      "source": [
        "str1 = \"Hello world my name is Hariharan\"\n",
        "str1=str1.lower()\n",
        "dict1 = {i : str1.count(i) for i in set(str1) if i!=\" \"}\n",
        "print(dict1)"
      ],
      "metadata": {
        "id": "bVMl32VYfpiB",
        "colab": {
          "base_uri": "https://localhost:8080/"
        },
        "outputId": "ca834e7a-96f1-4f43-c0d9-3584ee4103a3"
      },
      "execution_count": null,
      "outputs": [
        {
          "output_type": "stream",
          "name": "stdout",
          "text": [
            "{'y': 1, 'w': 1, 'd': 1, 'l': 3, 'h': 3, 'n': 2, 's': 1, 'e': 2, 'r': 3, 'a': 4, 'm': 2, 'i': 2, 'o': 2}\n"
          ]
        }
      ]
    },
    {
      "cell_type": "markdown",
      "source": [
        "##Python Program to Check Whether a String is a Palindrome or not Using Recursion"
      ],
      "metadata": {
        "id": "5JExNnm9uYEi"
      }
    },
    {
      "cell_type": "code",
      "source": [
        "#https://www.sanfoundry.com/python-program-check-string-palindrome-using-recursion/#:~:text=def%20is_palindrome(s)%3A%20if,'t%20a%20palindrome!%22)\n",
        "def is_palindrome(s):\n",
        "    print(\"s : \",s)\n",
        "    if len(s) < 1:\n",
        "        return True\n",
        "    else:\n",
        "        if s[0] == s[-1]:\n",
        "            return is_palindrome(s[1:-1])\n",
        "        else:\n",
        "            return False\n",
        "a=str(input(\"Enter string:\"))\n",
        "if(is_palindrome(a)==True):\n",
        "    print(\"String is a palindrome!\")\n",
        "else:\n",
        "    print(\"String isn't a palindrome!\")\n",
        "\n",
        "# text = \"hariharan\"\n",
        "# text[1:-1]\n",
        "# output: \"arihara\"\n",
        "\n",
        "# Enter string:malayalam\n",
        "# s :  malayalam\n",
        "# s :  alayala\n",
        "# s :  layal\n",
        "# s :  aya\n",
        "# s :  y\n",
        "# s :  \n",
        "# String is a palindrome!"
      ],
      "metadata": {
        "colab": {
          "base_uri": "https://localhost:8080/"
        },
        "id": "H3tZNPMCt8IC",
        "outputId": "b9f1c087-5f5e-4a76-c328-8c5c91b784f8"
      },
      "execution_count": null,
      "outputs": [
        {
          "output_type": "stream",
          "name": "stdout",
          "text": [
            "Enter string:malayalam\n",
            "s :  malayalam\n",
            "s :  alayala\n",
            "s :  layal\n",
            "s :  aya\n",
            "s :  y\n",
            "s :  \n",
            "String is a palindrome!\n"
          ]
        }
      ]
    },
    {
      "cell_type": "markdown",
      "source": [
        "##Python Program to Check if a Number is a Palindrome"
      ],
      "metadata": {
        "id": "BIzs7WSxueov"
      }
    },
    {
      "cell_type": "code",
      "source": [
        "n=int(input(\"Enter number:\"))\n",
        "temp=n\n",
        "rev=0\n",
        "while(n>0):\n",
        "    dig=n%10\n",
        "    print(\"dig :: \", dig)\n",
        "    rev=rev*10+dig\n",
        "    print(\"rev :: \",rev)\n",
        "    n=n//10\n",
        "    print(\"n ::\",n)\n",
        "if(temp==rev):\n",
        "    print(\"The number is a palindrome!\")\n",
        "else:\n",
        "    print(\"The number isn't a palindrome!\")"
      ],
      "metadata": {
        "id": "zraAroxWugFn",
        "colab": {
          "base_uri": "https://localhost:8080/",
          "height": 252
        },
        "outputId": "b6d1895e-d986-47a9-96b8-992f2bc17bbd"
      },
      "execution_count": null,
      "outputs": [
        {
          "name": "stdout",
          "output_type": "stream",
          "text": [
            "Enter number:kkk\n"
          ]
        },
        {
          "output_type": "error",
          "ename": "ValueError",
          "evalue": "ignored",
          "traceback": [
            "\u001b[0;31m---------------------------------------------------------------------------\u001b[0m",
            "\u001b[0;31mValueError\u001b[0m                                Traceback (most recent call last)",
            "\u001b[0;32m<ipython-input-32-c9e35970a993>\u001b[0m in \u001b[0;36m<module>\u001b[0;34m()\u001b[0m\n\u001b[0;32m----> 1\u001b[0;31m \u001b[0mn\u001b[0m\u001b[0;34m=\u001b[0m\u001b[0mint\u001b[0m\u001b[0;34m(\u001b[0m\u001b[0minput\u001b[0m\u001b[0;34m(\u001b[0m\u001b[0;34m\"Enter number:\"\u001b[0m\u001b[0;34m)\u001b[0m\u001b[0;34m)\u001b[0m\u001b[0;34m\u001b[0m\u001b[0;34m\u001b[0m\u001b[0m\n\u001b[0m\u001b[1;32m      2\u001b[0m \u001b[0mtemp\u001b[0m\u001b[0;34m=\u001b[0m\u001b[0mn\u001b[0m\u001b[0;34m\u001b[0m\u001b[0;34m\u001b[0m\u001b[0m\n\u001b[1;32m      3\u001b[0m \u001b[0mrev\u001b[0m\u001b[0;34m=\u001b[0m\u001b[0;36m0\u001b[0m\u001b[0;34m\u001b[0m\u001b[0;34m\u001b[0m\u001b[0m\n\u001b[1;32m      4\u001b[0m \u001b[0;32mwhile\u001b[0m\u001b[0;34m(\u001b[0m\u001b[0mn\u001b[0m\u001b[0;34m>\u001b[0m\u001b[0;36m0\u001b[0m\u001b[0;34m)\u001b[0m\u001b[0;34m:\u001b[0m\u001b[0;34m\u001b[0m\u001b[0;34m\u001b[0m\u001b[0m\n\u001b[1;32m      5\u001b[0m     \u001b[0mdig\u001b[0m\u001b[0;34m=\u001b[0m\u001b[0mn\u001b[0m\u001b[0;34m%\u001b[0m\u001b[0;36m10\u001b[0m\u001b[0;34m\u001b[0m\u001b[0;34m\u001b[0m\u001b[0m\n",
            "\u001b[0;31mValueError\u001b[0m: invalid literal for int() with base 10: 'kkk'"
          ]
        }
      ]
    },
    {
      "cell_type": "markdown",
      "source": [
        "## Palindrome of string or number using simple method\n",
        "\n",
        "> Indented block\n",
        "\n"
      ],
      "metadata": {
        "id": "PQ_pvlzZvsMK"
      }
    },
    {
      "cell_type": "code",
      "source": [
        "a = 699121996\n",
        "b=int(str(a)[::-1])\n",
        "if a == b:\n",
        "  print(\"number is palindrome\")\n",
        "else:\n",
        "  print(\"Number is not palindrome\")"
      ],
      "metadata": {
        "colab": {
          "base_uri": "https://localhost:8080/"
        },
        "id": "UdoiViEvuuM5",
        "outputId": "10bce48d-5d8e-4983-c48b-a33ce8b13e72"
      },
      "execution_count": null,
      "outputs": [
        {
          "output_type": "stream",
          "name": "stdout",
          "text": [
            "number is palindrome\n"
          ]
        }
      ]
    },
    {
      "cell_type": "code",
      "source": [
        "text = \"hariharan\"\n",
        "text[1:-1]\n",
        "1023/10"
      ],
      "metadata": {
        "colab": {
          "base_uri": "https://localhost:8080/"
        },
        "id": "fE9mw2b6uwPU",
        "outputId": "7b2d453e-a384-41a0-ad09-4f4dac9476ae"
      },
      "execution_count": null,
      "outputs": [
        {
          "output_type": "execute_result",
          "data": {
            "text/plain": [
              "102.3"
            ]
          },
          "metadata": {},
          "execution_count": 9
        }
      ]
    },
    {
      "cell_type": "markdown",
      "source": [
        "##Python Program to Check Whether a Given Year is a Leap Year"
      ],
      "metadata": {
        "id": "0JhxxT-XEgpu"
      }
    },
    {
      "cell_type": "code",
      "source": [
        "year=int(input(\"Enter year to be checked:\"))\n",
        "if(year%4==0 and year%100!=0 or year%400==0):\n",
        "    print(\"The year is a leap year!\")\n",
        "else:\n",
        "    print(\"The year isn't a leap year!\")"
      ],
      "metadata": {
        "id": "ByKKbOdAxkJA",
        "colab": {
          "base_uri": "https://localhost:8080/"
        },
        "outputId": "b64247e4-63d3-45b9-d893-fd4158a84c1e"
      },
      "execution_count": null,
      "outputs": [
        {
          "output_type": "stream",
          "name": "stdout",
          "text": [
            "Enter year to be checked:1997\n",
            "The year isn't a leap year!\n"
          ]
        }
      ]
    },
    {
      "cell_type": "markdown",
      "source": [
        "##Python Program to Find the Sum of the Digits of the Number Recursively"
      ],
      "metadata": {
        "id": "vlweOPtGRpzr"
      }
    },
    {
      "cell_type": "code",
      "source": [
        "l=[]\n",
        "rev = 0\n",
        "def sum_digit(n):\n",
        "  \n",
        "  # print(n)\n",
        "  if n==0:\n",
        "    return 1\n",
        "  else:\n",
        "    rem = n%10\n",
        "    \n",
        "    l.append(rem)\n",
        "    sum_digit(n//10)\n",
        "\n",
        "sum_digit(1234)\n",
        "print(sum(l))\n",
        "print(l)\n",
        "#https://www.programiz.com/python-programming/examples/armstrong-number"
      ],
      "metadata": {
        "colab": {
          "base_uri": "https://localhost:8080/"
        },
        "id": "nq5A5pNcE0m_",
        "outputId": "1119ec84-1cbc-4705-9c65-b0b840513e85"
      },
      "execution_count": null,
      "outputs": [
        {
          "output_type": "stream",
          "name": "stdout",
          "text": [
            "10\n",
            "[4, 3, 2, 1]\n"
          ]
        }
      ]
    },
    {
      "cell_type": "markdown",
      "source": [
        ""
      ],
      "metadata": {
        "id": "xr-CfEFC5JaI"
      }
    },
    {
      "cell_type": "markdown",
      "source": [
        "##Python Program to Search the Number of Times a Particular Number Occurs in a List"
      ],
      "metadata": {
        "id": "uZG6WKFn5JgD"
      }
    },
    {
      "cell_type": "code",
      "source": [
        "number_list = [1,3,4,5,6,7,8,9,1,3,4,6,7,8,9,3]\n",
        "count_dict = {num : number_list.count(num) for num in set(number_list)}\n",
        "print(count_dict)"
      ],
      "metadata": {
        "colab": {
          "base_uri": "https://localhost:8080/"
        },
        "id": "mqVouBkQE09i",
        "outputId": "605634cd-83b5-4261-cf6f-8a8959f5d837"
      },
      "execution_count": null,
      "outputs": [
        {
          "output_type": "stream",
          "name": "stdout",
          "text": [
            "{1: 2, 3: 3, 4: 2, 5: 1, 6: 2, 7: 2, 8: 2, 9: 2}\n"
          ]
        }
      ]
    },
    {
      "cell_type": "markdown",
      "source": [
        "##Python Program to Determine How Many Times a Given Letter Occurs in a String Recursively"
      ],
      "metadata": {
        "id": "f4ZlWYbB9xiH"
      }
    },
    {
      "cell_type": "code",
      "source": [
        "string1 = input(\"Enter the string\")\n",
        "char1   = input(\"Enter the character\")\n",
        "def check_count(string1,char1):\n",
        "  if not string1:\n",
        "    return 0\n",
        "  elif string1[0]==char1:\n",
        "    return 1+check_count(string1[1:],char1)\n",
        "  else:\n",
        "    return check_count(string1[1:],char1)\n",
        "print(check_count(string1,char1))"
      ],
      "metadata": {
        "id": "goEBEanU63ZW",
        "colab": {
          "base_uri": "https://localhost:8080/"
        },
        "outputId": "c2116aa2-2255-4ac2-bbbe-5d431eb2c32b"
      },
      "execution_count": null,
      "outputs": [
        {
          "output_type": "stream",
          "name": "stdout",
          "text": [
            "Enter the string0\n",
            "Enter the character0\n",
            "1\n"
          ]
        }
      ]
    },
    {
      "cell_type": "code",
      "source": [
        "s = 1\n",
        "print(not s)"
      ],
      "metadata": {
        "id": "bVRwtIx3Afk-",
        "colab": {
          "base_uri": "https://localhost:8080/"
        },
        "outputId": "1a1772fa-48c2-4726-f6d2-315e6ad99ccc"
      },
      "execution_count": null,
      "outputs": [
        {
          "output_type": "stream",
          "name": "stdout",
          "text": [
            "False\n"
          ]
        }
      ]
    },
    {
      "cell_type": "markdown",
      "source": [
        "##Reverse of a string using recursion"
      ],
      "metadata": {
        "id": "VwGeSTJXKqIs"
      }
    },
    {
      "cell_type": "code",
      "source": [
        "str1 = \"hello\"\n",
        "def reverse(str1):\n",
        "  if len(str1)==0:\n",
        "    return str1\n",
        "  else:\n",
        "    return reverse(str1[1:])+str1[0]\n",
        "\n",
        "print(reverse(str1)) "
      ],
      "metadata": {
        "id": "29zgDIZmAkkf",
        "colab": {
          "base_uri": "https://localhost:8080/"
        },
        "outputId": "0463162f-29e6-4b3c-bc70-85951863d94a"
      },
      "execution_count": null,
      "outputs": [
        {
          "output_type": "stream",
          "name": "stdout",
          "text": [
            "olleh\n"
          ]
        }
      ]
    },
    {
      "cell_type": "markdown",
      "source": [
        "##Python Program to Check if a Number is a Perfect Number"
      ],
      "metadata": {
        "id": "gDsQISnRxGQM"
      }
    },
    {
      "cell_type": "code",
      "source": [
        "n=int(input(\"Enter the number\"))\n",
        "sum=0\n",
        "for i in range(1,n):\n",
        "  if n%i==0:\n",
        "    sum=sum+i\n",
        "if sum==n:\n",
        "  print(\"perfect number\")\n",
        "else:\n",
        "  print(\"Not a perfect number\")"
      ],
      "metadata": {
        "colab": {
          "base_uri": "https://localhost:8080/"
        },
        "id": "c2ltDg24KZDo",
        "outputId": "7fba6207-751d-4392-80b3-44bbedbaad09"
      },
      "execution_count": null,
      "outputs": [
        {
          "output_type": "stream",
          "name": "stdout",
          "text": [
            "Enter the number6\n",
            "perfect number\n"
          ]
        }
      ]
    },
    {
      "cell_type": "markdown",
      "source": [
        "## Python program check whether prime or not"
      ],
      "metadata": {
        "id": "Nw_XOy4EygGW"
      }
    },
    {
      "cell_type": "code",
      "source": [
        "# a number that is divisible only by itself and 1 \n",
        "\n",
        "num = int(input(\"Enter the number to check : \"))\n",
        "flag=True\n",
        "for i in range(2,n//2+1):# The for loop ranges from 2 to the half of the number so 1 and the number itself aren’t counted as divisors(\n",
        "  print(i)\n",
        "  if num%i==0:\n",
        "    flag = False\n",
        "\n",
        "if flag==True:\n",
        "  print(\"prime\")\n",
        "else:\n",
        "  print(\"not Prime\")\n",
        "  "
      ],
      "metadata": {
        "colab": {
          "base_uri": "https://localhost:8080/"
        },
        "id": "ICV05dobx-ns",
        "outputId": "698bbd3e-089c-4960-9349-bd0fbde829d1"
      },
      "execution_count": null,
      "outputs": [
        {
          "output_type": "stream",
          "name": "stdout",
          "text": [
            "Enter the number to check : 8\n",
            "2\n",
            "3\n",
            "not Prime\n"
          ]
        }
      ]
    },
    {
      "cell_type": "code",
      "source": [
        ""
      ],
      "metadata": {
        "id": "4dYhqTf2SK6u"
      },
      "execution_count": null,
      "outputs": []
    },
    {
      "cell_type": "markdown",
      "source": [
        "##Count the number of unique characters in a string in Python"
      ],
      "metadata": {
        "id": "MteQ65zQSMWD"
      }
    },
    {
      "cell_type": "code",
      "source": [
        "\n",
        "def countDis(str):\n",
        " \n",
        "    # Stores all distinct characters\n",
        "    s = set(str)\n",
        " \n",
        "    # Return the size of the set\n",
        "    return len(s)\n",
        " \n",
        " \n",
        "# Driver Code\n",
        "if __name__ == \"__main__\":\n",
        " \n",
        "    # Given string S\n",
        "    S = \"geeksforgeeks\"\n",
        " \n",
        "    print(countDis(S))"
      ],
      "metadata": {
        "id": "oYbY3nmSzRuu",
        "colab": {
          "base_uri": "https://localhost:8080/"
        },
        "outputId": "adc69694-6d0f-44f6-de3b-d6b0827ec660"
      },
      "execution_count": null,
      "outputs": [
        {
          "output_type": "stream",
          "name": "stdout",
          "text": [
            "7\n"
          ]
        }
      ]
    },
    {
      "cell_type": "code",
      "source": [
        "# Python program for the above approach\n",
        "from collections import Counter\n",
        "\n",
        "# Function to count the number of distinct\n",
        "# characters present in the string str\n",
        "def countDis(str):\n",
        "\n",
        "\t# Stores all frequencies\n",
        "\tfreq = Counter(str)\n",
        "  # print(freq)\n",
        "\t# Return the size of the freq dictionary\n",
        "\treturn len(freq)\n",
        "\n",
        "\n",
        "# Driver Code\n",
        "if __name__ == \"__main__\":\n",
        "\n",
        "\t# Given string S\n",
        "\tS = \"geeksforgeeks\"\n",
        "\n",
        "\tprint(countDis(S))\n",
        "\t\n",
        "# This code is contributed by vikkycirus\n"
      ],
      "metadata": {
        "colab": {
          "base_uri": "https://localhost:8080/"
        },
        "id": "y11Gi8fDSWO-",
        "outputId": "3ce2335c-574f-4e89-8deb-aaa6f39d271f"
      },
      "execution_count": null,
      "outputs": [
        {
          "output_type": "stream",
          "name": "stdout",
          "text": [
            "7\n"
          ]
        }
      ]
    },
    {
      "cell_type": "code",
      "source": [
        "x = (3,4,5) \n",
        "# //line1 \n",
        "y= ( 'X' , 'Y', 'Z' )\n",
        "# //line2 \n",
        "z=tuple(zip(x,y)) \n",
        "# //line 3"
      ],
      "metadata": {
        "id": "shV9ZTpxSa5D"
      },
      "execution_count": null,
      "outputs": []
    },
    {
      "cell_type": "code",
      "source": [
        "z"
      ],
      "metadata": {
        "colab": {
          "base_uri": "https://localhost:8080/"
        },
        "id": "vz_Fs23FiTGW",
        "outputId": "8682e105-ceaa-468f-b904-27c82a1ab9ce"
      },
      "execution_count": null,
      "outputs": [
        {
          "output_type": "execute_result",
          "data": {
            "text/plain": [
              "((3, 'X'), (4, 'Y'), (5, 'Z'))"
            ]
          },
          "metadata": {},
          "execution_count": 3
        }
      ]
    },
    {
      "cell_type": "code",
      "source": [
        ""
      ],
      "metadata": {
        "id": "92bPRoTPltW0"
      },
      "execution_count": null,
      "outputs": []
    },
    {
      "cell_type": "markdown",
      "source": [
        "##MultiThreading"
      ],
      "metadata": {
        "id": "zdKoZrvHPlnl"
      }
    },
    {
      "cell_type": "code",
      "source": [
        "import threading\n",
        "def odd_even(n,t):\n",
        "  print(\"Answer : \",n%2)\n",
        "  if n%2==0:\n",
        "    print(\"Num is Even : \",n,t)\n",
        "  else:\n",
        "    print(\"Num is Odd : \",n,t)\n",
        "thread1 = threading.Thread(target=odd_even, args=(10,\"t1\"))\n",
        "thread2 = threading.Thread(target=odd_even, args=(11,\"t2\"))\n",
        "thread1.start()\n",
        "thread2.start()\n",
        "thread1.join()\n",
        "thread2.join()"
      ],
      "metadata": {
        "colab": {
          "base_uri": "https://localhost:8080/"
        },
        "id": "7qX-hBwdPn42",
        "outputId": "7c6952c6-2c3f-467d-fb78-9482863afb61"
      },
      "execution_count": null,
      "outputs": [
        {
          "output_type": "stream",
          "name": "stdout",
          "text": [
            "Answer : Answer :  1\n",
            "Num is Odd :  11 t2\n",
            " 0\n",
            "Num is Even :  10 t1\n"
          ]
        }
      ]
    },
    {
      "cell_type": "code",
      "source": [
        "# https://stackoverflow.com/questions/42044090/return-the-maximum-value-from-a-dictionary\n",
        "\n",
        "str1 = \"aabbcddeeeefffg\"\n",
        "dic1={}\n",
        "keys = dic1.keys()\n",
        "for i in str1:\n",
        "  if i in keys:\n",
        "    dic1[i]+=1\n",
        "  else:\n",
        "    dic1[i]=1\n",
        "\n",
        "print(\"frequnecy dictionary \",dic1)\n",
        "# dic = {\"A\" : 5, \"B\" : 6, \"C\" : 9, \"D\" : 8}\n",
        "max_val = max(dic1.values())\n",
        "max_key = [k for k,v in dic1.items() if v==max_val]\n",
        "\n",
        "print(\"max_value : {} , max_key : {}\".format(max_val, mb"
      ],
      "metadata": {
        "id": "hpAACJmsQYHb",
        "colab": {
          "base_uri": "https://localhost:8080/"
        },
        "outputId": "571be533-10db-4a14-e615-794bd45e4549"
      },
      "execution_count": null,
      "outputs": [
        {
          "output_type": "stream",
          "name": "stdout",
          "text": [
            "frequnecy dictionary  {'a': 2, 'b': 2, 'c': 1, 'd': 2, 'e': 4, 'f': 3, 'g': 1}\n",
            "max_value : 4 , max_key : e\n"
          ]
        }
      ]
    },
    {
      "cell_type": "code",
      "source": [
        "#https://www.geeksforgeeks.org/python-ways-to-print-longest-consecutive-list-without-considering-duplicates-element/"
      ],
      "metadata": {
        "id": "LGvJCUXqbSQM"
      },
      "execution_count": null,
      "outputs": []
    },
    {
      "cell_type": "code",
      "source": [
        "a =\"AABBAAAACCAAAMAA\"\n",
        "b=\"AA\"\n",
        "count=0\n",
        "for i in range(len(a)):\n",
        "  if a[i:i+len(b)] ==b:\n",
        "    count+=1\n",
        "print(count)"
      ],
      "metadata": {
        "id": "0zQl_AE0iCa7",
        "colab": {
          "base_uri": "https://localhost:8080/"
        },
        "outputId": "4a395b64-cd6c-4666-a80f-0bb084e3dac2"
      },
      "execution_count": null,
      "outputs": [
        {
          "output_type": "stream",
          "name": "stdout",
          "text": [
            "7\n"
          ]
        }
      ]
    },
    {
      "cell_type": "code",
      "source": [
        "a =\"AABBAAAACCAAAMAA\"\n",
        "b=\"AA\"\n",
        "count=0\n",
        "while i < len(string):\n",
        "  "
      ],
      "metadata": {
        "id": "njIa_lkBy8mm"
      },
      "execution_count": null,
      "outputs": []
    },
    {
      "cell_type": "markdown",
      "source": [
        "##Bubble Sort"
      ],
      "metadata": {
        "id": "EvCPRAAyzlvH"
      }
    },
    {
      "cell_type": "code",
      "source": [
        "list = [23,45,7,4,6,0,97,2,4]\n",
        "number=[1,5,6,9,0]\n",
        "for i in range(len(number)):\n",
        "  for j in range(i+1,len(number)):\n",
        "    if number[i]>number[j]:\n",
        "      number[i],number[j]=number[j],number[i]\n",
        "print(number)\n",
        "\n",
        "\n"
      ],
      "metadata": {
        "colab": {
          "base_uri": "https://localhost:8080/"
        },
        "id": "yRiXG1_qznKg",
        "outputId": "9507aa5c-2181-4856-b907-2755bfb8d502"
      },
      "execution_count": null,
      "outputs": [
        {
          "output_type": "stream",
          "name": "stdout",
          "text": [
            "[0, 1, 5, 6, 9]\n"
          ]
        }
      ]
    },
    {
      "cell_type": "markdown",
      "source": [
        "##Python program to check if the list contains three consecutive common numbers in Python"
      ],
      "metadata": {
        "id": "vhPfzifOC07M"
      }
    },
    {
      "cell_type": "code",
      "source": [
        "# \n",
        "# creating the array\n",
        "arr = [4, 5, 5, 5, 3, 8]\n",
        "  \n",
        "# size of the list\n",
        "size = len(arr)\n",
        "  \n",
        "# looping till length - 2\n",
        "for i in range(size-2):\n",
        "  \n",
        "    # checking the conditions\n",
        "    if arr[i] == arr[i + 1] and arr[i + 1] == arr[i + 2]:\n",
        "  \n",
        "        # printing the element as the \n",
        "        # conditions are satisfied \n",
        "        print(arr[i])"
      ],
      "metadata": {
        "id": "3FNvbLoEC2ys"
      },
      "execution_count": null,
      "outputs": []
    },
    {
      "cell_type": "markdown",
      "source": [
        "##Maximum consecutive numbers in array"
      ],
      "metadata": {
        "id": "4mdxdcO5C7PQ"
      }
    },
    {
      "cell_type": "code",
      "source": [
        "list1 = [0,0,0,0,0,1,1,1,1,0,1,0,1,0]\n",
        "c1=0\n",
        "c0=0\n",
        "dummy1=[]\n",
        "dummy2=[]\n",
        "for i in list1:\n",
        "  if i==1:\n",
        "    c1+=1\n",
        "    dummy2.append(c0)\n",
        "    c0=0\n",
        "\n",
        "  else:\n",
        "    c0+=1\n",
        "    dummy1.append(c1)\n",
        "    c1=0\n",
        "dummy1.append(c1)\n",
        "dummy2.append(c0)\n",
        "# print(max(dummy1))\n",
        "# print(max(dummy2))\n",
        "if max(dummy1)>max(dummy2):\n",
        "  print(\"1 have {} occurances\".format(max(dummy1)))\n",
        "else:\n",
        "  print(\"0 have {} occurances\".format(max(dummy2)))"
      ],
      "metadata": {
        "colab": {
          "base_uri": "https://localhost:8080/"
        },
        "id": "n33u_C610g0U",
        "outputId": "7e571f48-0dc0-48d6-f399-e905da86d586"
      },
      "execution_count": null,
      "outputs": [
        {
          "output_type": "stream",
          "name": "stdout",
          "text": [
            "0 have 5 occurances\n"
          ]
        }
      ]
    },
    {
      "cell_type": "code",
      "source": [
        "list1=[1,2,3]\n",
        "list2=[1,2]\n",
        "set1 = set(list1)\n",
        "set2= set(list2)\n",
        "a = set1.difference(set2)\n",
        "a"
      ],
      "metadata": {
        "colab": {
          "base_uri": "https://localhost:8080/"
        },
        "id": "13sNICp96Px3",
        "outputId": "a6696f1a-0026-4e24-de92-0c05dd1b0d77"
      },
      "execution_count": null,
      "outputs": [
        {
          "output_type": "execute_result",
          "data": {
            "text/plain": [
              "{3}"
            ]
          },
          "metadata": {},
          "execution_count": 120
        }
      ]
    },
    {
      "cell_type": "code",
      "source": [
        "string = \"AABBAAABAAbAAAA\"\n",
        "substring=\"AA\"\n",
        "count = 0\n",
        "for i in range(len(string)):\n",
        "    if string[i:i+len(substring)] == substring:\n",
        "        count += 1\n",
        "print(count)"
      ],
      "metadata": {
        "id": "y2ZxWd2jHC1A",
        "colab": {
          "base_uri": "https://localhost:8080/",
          "height": 235
        },
        "outputId": "6201f6f4-133d-40d2-a7b4-6497c36e7d2d"
      },
      "execution_count": null,
      "outputs": [
        {
          "output_type": "error",
          "ename": "KeyboardInterrupt",
          "evalue": "ignored",
          "traceback": [
            "\u001b[0;31m---------------------------------------------------------------------------\u001b[0m",
            "\u001b[0;31mKeyboardInterrupt\u001b[0m                         Traceback (most recent call last)",
            "\u001b[0;32m<ipython-input-2-b1fe51d7abf7>\u001b[0m in \u001b[0;36m<module>\u001b[0;34m()\u001b[0m\n\u001b[1;32m      3\u001b[0m \u001b[0mcount\u001b[0m \u001b[0;34m=\u001b[0m \u001b[0;36m0\u001b[0m\u001b[0;34m\u001b[0m\u001b[0;34m\u001b[0m\u001b[0m\n\u001b[1;32m      4\u001b[0m \u001b[0mi\u001b[0m\u001b[0;34m=\u001b[0m\u001b[0;36m0\u001b[0m\u001b[0;34m\u001b[0m\u001b[0;34m\u001b[0m\u001b[0m\n\u001b[0;32m----> 5\u001b[0;31m \u001b[0;32mwhile\u001b[0m\u001b[0;34m(\u001b[0m\u001b[0mi\u001b[0m\u001b[0;34m<\u001b[0m\u001b[0mlen\u001b[0m\u001b[0;34m(\u001b[0m\u001b[0mstring\u001b[0m\u001b[0;34m)\u001b[0m\u001b[0;34m)\u001b[0m\u001b[0;34m:\u001b[0m\u001b[0;34m\u001b[0m\u001b[0;34m\u001b[0m\u001b[0m\n\u001b[0m\u001b[1;32m      6\u001b[0m \u001b[0;31m# for i in range(len(string)):\u001b[0m\u001b[0;34m\u001b[0m\u001b[0;34m\u001b[0m\u001b[0;34m\u001b[0m\u001b[0m\n\u001b[1;32m      7\u001b[0m     \u001b[0;32mif\u001b[0m \u001b[0mstring\u001b[0m\u001b[0;34m[\u001b[0m\u001b[0mi\u001b[0m\u001b[0;34m:\u001b[0m\u001b[0mi\u001b[0m\u001b[0;34m+\u001b[0m\u001b[0mlen\u001b[0m\u001b[0;34m(\u001b[0m\u001b[0msubstring\u001b[0m\u001b[0;34m)\u001b[0m\u001b[0;34m]\u001b[0m \u001b[0;34m==\u001b[0m \u001b[0msubstring\u001b[0m\u001b[0;34m:\u001b[0m\u001b[0;34m\u001b[0m\u001b[0;34m\u001b[0m\u001b[0m\n",
            "\u001b[0;31mKeyboardInterrupt\u001b[0m: "
          ]
        }
      ]
    },
    {
      "cell_type": "code",
      "source": [
        "string = \"AABBAAABAAbAAAA\"\n",
        "substring=\"AA\"\n",
        "count = 0\n",
        "i=0\n",
        "while(i<len(string)):\n",
        "# for i in range(len(string)):\n",
        "    if string[i:len(substring)] == substring:\n",
        "        count += 1\n",
        "        i+=1\n",
        "print(count)"
      ],
      "metadata": {
        "id": "TKRCrl5rcjwW"
      },
      "execution_count": null,
      "outputs": []
    },
    {
      "cell_type": "markdown",
      "source": [
        "Pattern proramming"
      ],
      "metadata": {
        "id": "k_UPZLVkJZWH"
      }
    },
    {
      "cell_type": "code",
      "source": [
        "# ......1\n",
        "# .....1 2\n",
        "# ....1 2 3\n",
        "# ...1 2 3 4\n",
        "# ..1 2 3 4 5\n",
        "# .1 2 3 4 5 6\n",
        "\n",
        "# N = int(input(\"Enter the Number : \"))\n",
        "N=4\n",
        "flag = N+1\n",
        "for i in range(N):\n",
        "    b=1\n",
        "    val=1\n",
        "    for j in range(N+1):\n",
        "        if b<flag:\n",
        "            print(\"*\",end=' ')\n",
        "        else:\n",
        "            print(val,end=' ')\n",
        "            val+=1\n",
        "        b+=1\n",
        "    flag=flag-1\n",
        "    print()\n",
        "\n",
        "print(\"\\n\")\n",
        "\n",
        "v = 1        \n",
        "for i in range(1,N+1):\n",
        "    for j in range(1,i+1):\n",
        "        \n",
        "        print(v,end=' ')\n",
        "        v+=1\n",
        "        if j<i:\n",
        "            print(\"*\",end=' ')\n",
        "    print()\n",
        "    \n",
        "v=v-1 \n",
        "for i in range(N,0,-1):\n",
        "    flag = 1\n",
        "    # print(\"i \",i)\n",
        "    for j in range(i,0,-1):\n",
        "        # print(\"j \",j)\n",
        "        print(v,end=' ')\n",
        "        v-=1\n",
        "        if flag<i:\n",
        "            print(\"*\",end=' ')\n",
        "            flag+=1\n",
        "    print()\n",
        "    \n",
        "        \n",
        "        \n",
        "            "
      ],
      "metadata": {
        "id": "3GK8rFbfbO-e",
        "colab": {
          "base_uri": "https://localhost:8080/"
        },
        "outputId": "91df613c-016e-40c3-e545-22330b80d446"
      },
      "execution_count": null,
      "outputs": [
        {
          "output_type": "stream",
          "name": "stdout",
          "text": [
            "* * * * 1 \n",
            "* * * 1 2 \n",
            "* * 1 2 3 \n",
            "* 1 2 3 4 \n",
            "\n",
            "\n",
            "1 \n",
            "2 * 3 \n",
            "4 * 5 * 6 \n",
            "7 * 8 * 9 * 10 \n",
            "10 * 9 * 8 * 7 \n",
            "6 * 5 * 4 \n",
            "3 * 2 \n",
            "1 \n"
          ]
        }
      ]
    },
    {
      "cell_type": "code",
      "source": [
        ""
      ],
      "metadata": {
        "id": "hUWoSgI2JcaW"
      },
      "execution_count": null,
      "outputs": []
    }
  ]
}